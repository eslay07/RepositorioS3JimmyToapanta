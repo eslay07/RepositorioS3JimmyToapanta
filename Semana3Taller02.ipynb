{
  "nbformat": 4,
  "nbformat_minor": 0,
  "metadata": {
    "colab": {
      "provenance": [],
      "collapsed_sections": [],
      "authorship_tag": "ABX9TyN82nsIoN/G0F20Wt1zzAep",
      "include_colab_link": true
    },
    "kernelspec": {
      "name": "python3",
      "display_name": "Python 3"
    },
    "language_info": {
      "name": "python"
    }
  },
  "cells": [
    {
      "cell_type": "markdown",
      "metadata": {
        "id": "view-in-github",
        "colab_type": "text"
      },
      "source": [
        "<a href=\"https://colab.research.google.com/github/eslay07/RepositorioS3JimmyToapanta/blob/master/Semana3Taller02.ipynb\" target=\"_parent\"><img src=\"https://colab.research.google.com/assets/colab-badge.svg\" alt=\"Open In Colab\"/></a>"
      ]
    },
    {
      "cell_type": "markdown",
      "source": [
        "#Recordando poo , pero en python"
      ],
      "metadata": {
        "id": "nxsdRBTv1kVf"
      }
    },
    {
      "cell_type": "code",
      "execution_count": 1,
      "metadata": {
        "id": "ugLahKHLz90S"
      },
      "outputs": [],
      "source": [
        "class miClase ():\n",
        "  def __init__(self):\n",
        "    print('Hola mundo')\n"
      ]
    },
    {
      "cell_type": "code",
      "source": [
        "miObjeto = miClase()\n"
      ],
      "metadata": {
        "colab": {
          "base_uri": "https://localhost:8080/"
        },
        "id": "q8-amsfx1aQL",
        "outputId": "d45865b5-8cb5-4d6c-edb8-97522f4195a5"
      },
      "execution_count": 2,
      "outputs": [
        {
          "output_type": "stream",
          "name": "stdout",
          "text": [
            "Hola mundo\n"
          ]
        }
      ]
    },
    {
      "cell_type": "code",
      "source": [
        "class miClaseA ():\n",
        "  atributiClase = 100\n",
        "\n",
        "  def __init__(self, unParametro):\n",
        "    self.unParametro = unParametro\n",
        "    print(\"Me has pasado este parametro: {}\".format(unParametro))"
      ],
      "metadata": {
        "id": "Nx7XQR7r2KCu"
      },
      "execution_count": 5,
      "outputs": []
    },
    {
      "cell_type": "code",
      "source": [
        "class alcanceClase():\n",
        "  def __init__(self):\n",
        "    self.__oculto=\"Me encuentro oculto en la clase\"\n",
        "  def publico(self):\n",
        "      return \"Soy un metodo publico, a la vista de todo\"\n",
        "  def __privado(self):\n",
        "      return \"Soy un metodo privado, para ti no existo\"\n",
        "  def get_oculto(self):\n",
        "      return self.__oculto"
      ],
      "metadata": {
        "id": "C7_TOCx536qh"
      },
      "execution_count": 6,
      "outputs": []
    },
    {
      "cell_type": "code",
      "source": [
        "objeto = alcanceClase()"
      ],
      "metadata": {
        "id": "AJDUWbB-8Ap2"
      },
      "execution_count": 7,
      "outputs": []
    },
    {
      "cell_type": "code",
      "source": [
        "print(objeto.publico())\n",
        "print(objeto._alcanceClase__privado())\n",
        "print(objeto.get_oculto())"
      ],
      "metadata": {
        "colab": {
          "base_uri": "https://localhost:8080/"
        },
        "id": "tYUkbk7Q8HGi",
        "outputId": "dd9326b3-d392-418e-841b-e443c0de782b"
      },
      "execution_count": 9,
      "outputs": [
        {
          "output_type": "stream",
          "name": "stdout",
          "text": [
            "Soy un metodo publico, a la vista de todo\n",
            "Soy un metodo privado, para ti no existo\n",
            "Me encuentro oculto en la clase\n"
          ]
        }
      ]
    },
    {
      "cell_type": "markdown",
      "source": [
        "EJERCICIOS"
      ],
      "metadata": {
        "id": "de7DgLtj-V0Z"
      }
    },
    {
      "cell_type": "code",
      "source": [
        "# Comentario de una sola linea\n",
        "'''\n",
        "Escribir un programa que pida al usuario una palabra \n",
        "y la muestre por pantalla 10 veces\n",
        "'''\n"
      ],
      "metadata": {
        "id": "1UCNBDnv-UGW"
      },
      "execution_count": null,
      "outputs": []
    },
    {
      "cell_type": "code",
      "source": [
        "palabra = input(\"Introduce una palabra: \")\n",
        "for i in range(10):\n",
        "    print(palabra)"
      ],
      "metadata": {
        "colab": {
          "base_uri": "https://localhost:8080/"
        },
        "id": "7lyo-pwY-6H5",
        "outputId": "6671fccc-92ef-42ac-e396-fb94d6cde232"
      },
      "execution_count": 10,
      "outputs": [
        {
          "output_type": "stream",
          "name": "stdout",
          "text": [
            "Introduce una palabra: jimmy\n",
            "jimmy\n",
            "jimmy\n",
            "jimmy\n",
            "jimmy\n",
            "jimmy\n",
            "jimmy\n",
            "jimmy\n",
            "jimmy\n",
            "jimmy\n",
            "jimmy\n"
          ]
        }
      ]
    },
    {
      "cell_type": "code",
      "source": [
        "'''\n",
        "Escribir un programa que pida al usuario un numero entero positivo y \n",
        "muestre por pantalla todos los numeros impares \n",
        "desde 1 hasta ese numero separado por comas\n",
        "'''"
      ],
      "metadata": {
        "id": "FYcqPihHAMLE"
      },
      "execution_count": null,
      "outputs": []
    },
    {
      "cell_type": "code",
      "source": [
        "n = int(input(\"Introduce un número entero positivo: \"))\n",
        "for i in range(1, n+1, 2):\n",
        "    print(i, end=\", \")"
      ],
      "metadata": {
        "colab": {
          "base_uri": "https://localhost:8080/"
        },
        "id": "9TUGXBmvBC_5",
        "outputId": "97ee23d5-37f3-4fea-8545-1d7271b9d1b3"
      },
      "execution_count": 11,
      "outputs": [
        {
          "output_type": "stream",
          "name": "stdout",
          "text": [
            "Introduce un número entero positivo: 5\n",
            "1, 3, 5, "
          ]
        }
      ]
    },
    {
      "cell_type": "code",
      "source": [
        "'''\n",
        "Escribir un programa que pida al usuario un numero entero y muestre por pantalla un triangulo rectangulo como el de mas abajo de \n",
        "altura el numero introducido\n",
        "\n",
        "'''"
      ],
      "metadata": {
        "id": "WhX9OuGBBKij"
      },
      "execution_count": null,
      "outputs": []
    },
    {
      "cell_type": "code",
      "source": [
        "altura = int(input(\"Por favor ingrese una altura para el triangulo: \"))\n",
        "\n",
        "for pisos in range(1, altura+1): \n",
        "    for escalones in range(pisos): \n",
        "        print(\"\", end=\"\")\n",
        "    print(\"\") \n"
      ],
      "metadata": {
        "colab": {
          "base_uri": "https://localhost:8080/"
        },
        "id": "z9AJUcnvBxUn",
        "outputId": "bc305656-2fff-45b8-8acc-812efe264bf2"
      },
      "execution_count": 15,
      "outputs": [
        {
          "output_type": "stream",
          "name": "stdout",
          "text": [
            "Por favor ingrese una altura para el triangulo: 10\n",
            "** \n",
            "**** \n",
            "****** \n",
            "******** \n",
            "********** \n",
            "************ \n",
            "************** \n",
            "**************** \n",
            "****************** \n",
            "******************** \n"
          ]
        }
      ]
    },
    {
      "cell_type": "code",
      "source": [
        "'''\n",
        "pino completo\n",
        "'''"
      ],
      "metadata": {
        "id": "ymI4_SUFCeES"
      },
      "execution_count": null,
      "outputs": []
    },
    {
      "cell_type": "code",
      "source": [],
      "metadata": {
        "id": "jpzh3kA-Ch2M"
      },
      "execution_count": 22,
      "outputs": []
    },
    {
      "cell_type": "code",
      "source": [
        "lista1 = ['a', 'b', 'c']\n"
      ],
      "metadata": {
        "id": "3FV-t-trEFKJ"
      },
      "execution_count": 28,
      "outputs": []
    },
    {
      "cell_type": "code",
      "source": [
        "lista1"
      ],
      "metadata": {
        "colab": {
          "base_uri": "https://localhost:8080/"
        },
        "id": "mIdiKPzXE8zz",
        "outputId": "05349290-f289-49c5-d277-b89b16a2fb47"
      },
      "execution_count": 29,
      "outputs": [
        {
          "output_type": "execute_result",
          "data": {
            "text/plain": [
              "['a', 'b', 'c']"
            ]
          },
          "metadata": {},
          "execution_count": 29
        }
      ]
    },
    {
      "cell_type": "code",
      "source": [
        "print(lista1)"
      ],
      "metadata": {
        "colab": {
          "base_uri": "https://localhost:8080/"
        },
        "id": "tqZAekmgE--v",
        "outputId": "fefdf568-3a8c-40eb-a8ef-39d57d7822b7"
      },
      "execution_count": 30,
      "outputs": [
        {
          "output_type": "stream",
          "name": "stdout",
          "text": [
            "['a', 'b', 'c']\n"
          ]
        }
      ]
    },
    {
      "cell_type": "code",
      "source": [
        "lista2 = [1,2,3]"
      ],
      "metadata": {
        "id": "9yIAdOlWFDkD"
      },
      "execution_count": 31,
      "outputs": []
    },
    {
      "cell_type": "code",
      "source": [
        "lista2"
      ],
      "metadata": {
        "colab": {
          "base_uri": "https://localhost:8080/"
        },
        "id": "gblVuPvpFHXx",
        "outputId": "d4bbadf5-0781-4e2e-955b-08ef62472927"
      },
      "execution_count": 32,
      "outputs": [
        {
          "output_type": "execute_result",
          "data": {
            "text/plain": [
              "[1, 2, 3]"
            ]
          },
          "metadata": {},
          "execution_count": 32
        }
      ]
    },
    {
      "cell_type": "code",
      "source": [
        "lista3 =[lista1,lista2]\n",
        "lista3"
      ],
      "metadata": {
        "colab": {
          "base_uri": "https://localhost:8080/"
        },
        "id": "tHqgWIP-FKK8",
        "outputId": "cc1a5531-a9c9-478f-e0e6-fe2062eab2d7"
      },
      "execution_count": 33,
      "outputs": [
        {
          "output_type": "execute_result",
          "data": {
            "text/plain": [
              "[['a', 'b', 'c'], [1, 2, 3]]"
            ]
          },
          "metadata": {},
          "execution_count": 33
        }
      ]
    },
    {
      "cell_type": "code",
      "source": [
        "lista4 =[(3,5),(6,7)]\n",
        "\n",
        "lista4"
      ],
      "metadata": {
        "colab": {
          "base_uri": "https://localhost:8080/"
        },
        "id": "w8FrKu5RFWI4",
        "outputId": "d56c7fb7-dc05-44e0-e81d-21b7b8d25074"
      },
      "execution_count": 34,
      "outputs": [
        {
          "output_type": "execute_result",
          "data": {
            "text/plain": [
              "[(3, 5), (6, 7)]"
            ]
          },
          "metadata": {},
          "execution_count": 34
        }
      ]
    },
    {
      "cell_type": "code",
      "source": [
        "lista4.append(999)"
      ],
      "metadata": {
        "id": "crVVrV62FpO3"
      },
      "execution_count": 35,
      "outputs": []
    },
    {
      "cell_type": "code",
      "source": [
        "lista4"
      ],
      "metadata": {
        "colab": {
          "base_uri": "https://localhost:8080/"
        },
        "id": "wwKAxBCfF0UQ",
        "outputId": "dc87de46-1cec-4bbc-c652-83fd4499cf08"
      },
      "execution_count": 36,
      "outputs": [
        {
          "output_type": "execute_result",
          "data": {
            "text/plain": [
              "[(3, 5), (6, 7), 999]"
            ]
          },
          "metadata": {},
          "execution_count": 36
        }
      ]
    },
    {
      "cell_type": "code",
      "source": [
        "lista4.reverse()\n",
        "lista4"
      ],
      "metadata": {
        "colab": {
          "base_uri": "https://localhost:8080/"
        },
        "id": "UWIdGkMbF34M",
        "outputId": "97985b00-05d1-440b-b9d8-0a85293a9f05"
      },
      "execution_count": 37,
      "outputs": [
        {
          "output_type": "execute_result",
          "data": {
            "text/plain": [
              "[999, (6, 7), (3, 5)]"
            ]
          },
          "metadata": {},
          "execution_count": 37
        }
      ]
    },
    {
      "cell_type": "code",
      "source": [
        "lista4.remove(999)\n",
        "lista4"
      ],
      "metadata": {
        "colab": {
          "base_uri": "https://localhost:8080/"
        },
        "id": "nGFWRS-rGHQj",
        "outputId": "a9bd263c-218d-449f-96bf-342fe16eb9e8"
      },
      "execution_count": 38,
      "outputs": [
        {
          "output_type": "execute_result",
          "data": {
            "text/plain": [
              "[(6, 7), (3, 5)]"
            ]
          },
          "metadata": {},
          "execution_count": 38
        }
      ]
    },
    {
      "cell_type": "code",
      "source": [
        "lista4.extend(['z', 'j', 'k'])\n",
        "lista4"
      ],
      "metadata": {
        "colab": {
          "base_uri": "https://localhost:8080/"
        },
        "id": "3nPAlPI-G2S8",
        "outputId": "e7c9dfda-0906-4eff-baf6-0ccd6a67ab38"
      },
      "execution_count": 39,
      "outputs": [
        {
          "output_type": "execute_result",
          "data": {
            "text/plain": [
              "[(6, 7), (3, 5), 'z', 'j', 'k']"
            ]
          },
          "metadata": {},
          "execution_count": 39
        }
      ]
    },
    {
      "cell_type": "code",
      "source": [
        "len(lista4)\n",
        "lista4.count((6,7))"
      ],
      "metadata": {
        "colab": {
          "base_uri": "https://localhost:8080/"
        },
        "id": "F26TpAgOHG9w",
        "outputId": "72e90ebb-c73c-418a-b436-402f019b014b"
      },
      "execution_count": 47,
      "outputs": [
        {
          "output_type": "execute_result",
          "data": {
            "text/plain": [
              "1"
            ]
          },
          "metadata": {},
          "execution_count": 47
        }
      ]
    },
    {
      "cell_type": "markdown",
      "source": [
        "\"\"Escribir un programa que almacene las asignaciones de un curso () en una lista por pantalla:"
      ],
      "metadata": {
        "id": "b0xZBXNEILiv"
      }
    },
    {
      "cell_type": "code",
      "source": [
        "m1 = input(\"Introduce la materia: \")\n",
        "\n",
        "\n",
        "lista1 = ['a', 'b', 'c']\n"
      ],
      "metadata": {
        "id": "iLXTesMLIKk7"
      },
      "execution_count": null,
      "outputs": []
    },
    {
      "cell_type": "code",
      "source": [
        "mat = [\"Matemáticas\", \"Física\", \"Química\", \"Historia\", \"Lengua\"]\n",
        "calificacion = []\n",
        "for mat in mat:\n",
        "    calificacion = input(\"¿Qué nota has sacado en \" +calificacion + \"?\")\n",
        "    calificacion.append(calificacion)\n",
        "for i in range(len(calificacion)):\n",
        "    print(\"En \" + calificacion[i] + \" has sacado \" + calificacion[i])"
      ],
      "metadata": {
        "colab": {
          "base_uri": "https://localhost:8080/",
          "height": 236
        },
        "id": "jbZly23iJJt7",
        "outputId": "edf921c5-1bf1-4fcc-b8c2-39907f145f81"
      },
      "execution_count": 51,
      "outputs": [
        {
          "output_type": "error",
          "ename": "TypeError",
          "evalue": "ignored",
          "traceback": [
            "\u001b[0;31m---------------------------------------------------------------------------\u001b[0m",
            "\u001b[0;31mTypeError\u001b[0m                                 Traceback (most recent call last)",
            "\u001b[0;32m<ipython-input-51-9f946d1f714b>\u001b[0m in \u001b[0;36m<module>\u001b[0;34m\u001b[0m\n\u001b[1;32m      2\u001b[0m \u001b[0mcalificacion\u001b[0m \u001b[0;34m=\u001b[0m \u001b[0;34m[\u001b[0m\u001b[0;34m]\u001b[0m\u001b[0;34m\u001b[0m\u001b[0;34m\u001b[0m\u001b[0m\n\u001b[1;32m      3\u001b[0m \u001b[0;32mfor\u001b[0m \u001b[0mmat\u001b[0m \u001b[0;32min\u001b[0m \u001b[0mmat\u001b[0m\u001b[0;34m:\u001b[0m\u001b[0;34m\u001b[0m\u001b[0;34m\u001b[0m\u001b[0m\n\u001b[0;32m----> 4\u001b[0;31m     \u001b[0mcalificacion\u001b[0m \u001b[0;34m=\u001b[0m \u001b[0minput\u001b[0m\u001b[0;34m(\u001b[0m\u001b[0;34m\"¿Qué nota has sacado en \"\u001b[0m \u001b[0;34m+\u001b[0m\u001b[0mcalificacion\u001b[0m \u001b[0;34m+\u001b[0m \u001b[0;34m\"?\"\u001b[0m\u001b[0;34m)\u001b[0m\u001b[0;34m\u001b[0m\u001b[0;34m\u001b[0m\u001b[0m\n\u001b[0m\u001b[1;32m      5\u001b[0m     \u001b[0mcalificacion\u001b[0m\u001b[0;34m.\u001b[0m\u001b[0mappend\u001b[0m\u001b[0;34m(\u001b[0m\u001b[0mcalificacion\u001b[0m\u001b[0;34m)\u001b[0m\u001b[0;34m\u001b[0m\u001b[0;34m\u001b[0m\u001b[0m\n\u001b[1;32m      6\u001b[0m \u001b[0;32mfor\u001b[0m \u001b[0mi\u001b[0m \u001b[0;32min\u001b[0m \u001b[0mrange\u001b[0m\u001b[0;34m(\u001b[0m\u001b[0mlen\u001b[0m\u001b[0;34m(\u001b[0m\u001b[0mcalificacion\u001b[0m\u001b[0;34m)\u001b[0m\u001b[0;34m)\u001b[0m\u001b[0;34m:\u001b[0m\u001b[0;34m\u001b[0m\u001b[0;34m\u001b[0m\u001b[0m\n",
            "\u001b[0;31mTypeError\u001b[0m: can only concatenate str (not \"list\") to str"
          ]
        }
      ]
    }
  ]
}